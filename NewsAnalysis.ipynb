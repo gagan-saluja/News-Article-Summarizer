{
  "nbformat": 4,
  "nbformat_minor": 0,
  "metadata": {
    "colab": {
      "name": "NewsAnalysis.ipynb",
      "provenance": [],
      "toc_visible": true,
      "authorship_tag": "ABX9TyNt6Rtu/5NkVOLcE6x8ZX7n"
    },
    "kernelspec": {
      "name": "python3",
      "display_name": "Python 3"
    }
  },
  "cells": [
    {
      "cell_type": "markdown",
      "metadata": {
        "id": "1XmYSHorFS78",
        "colab_type": "text"
      },
      "source": [
        "# Analysis of News Articles\n",
        "\n",
        "A python approach to analyze and summarize an article on the web with the help of **nltk** and **newspaper3k** library."
      ]
    },
    {
      "cell_type": "code",
      "metadata": {
        "id": "drW83YZ0_cNi",
        "colab_type": "code",
        "colab": {
          "base_uri": "https://localhost:8080/",
          "height": 904
        },
        "outputId": "3a40db4c-1f22-4e4b-8085-12dcbe2eff13"
      },
      "source": [
        "!pip install nltk\n",
        "!pip install newspaper3k"
      ],
      "execution_count": 3,
      "outputs": [
        {
          "output_type": "stream",
          "text": [
            "Requirement already satisfied: nltk in /usr/local/lib/python3.6/dist-packages (3.2.5)\n",
            "Requirement already satisfied: six in /usr/local/lib/python3.6/dist-packages (from nltk) (1.12.0)\n",
            "Collecting newspaper3k\n",
            "\u001b[?25l  Downloading https://files.pythonhosted.org/packages/d7/b9/51afecb35bb61b188a4b44868001de348a0e8134b4dfa00ffc191567c4b9/newspaper3k-0.2.8-py3-none-any.whl (211kB)\n",
            "\u001b[K     |████████████████████████████████| 215kB 2.9MB/s \n",
            "\u001b[?25hRequirement already satisfied: Pillow>=3.3.0 in /usr/local/lib/python3.6/dist-packages (from newspaper3k) (7.0.0)\n",
            "Collecting cssselect>=0.9.2\n",
            "  Downloading https://files.pythonhosted.org/packages/3b/d4/3b5c17f00cce85b9a1e6f91096e1cc8e8ede2e1be8e96b87ce1ed09e92c5/cssselect-1.1.0-py2.py3-none-any.whl\n",
            "Collecting feedfinder2>=0.0.4\n",
            "  Downloading https://files.pythonhosted.org/packages/35/82/1251fefec3bb4b03fd966c7e7f7a41c9fc2bb00d823a34c13f847fd61406/feedfinder2-0.0.4.tar.gz\n",
            "Requirement already satisfied: beautifulsoup4>=4.4.1 in /usr/local/lib/python3.6/dist-packages (from newspaper3k) (4.6.3)\n",
            "Collecting feedparser>=5.2.1\n",
            "\u001b[?25l  Downloading https://files.pythonhosted.org/packages/91/d8/7d37fec71ff7c9dbcdd80d2b48bcdd86d6af502156fc93846fb0102cb2c4/feedparser-5.2.1.tar.bz2 (192kB)\n",
            "\u001b[K     |████████████████████████████████| 194kB 8.5MB/s \n",
            "\u001b[?25hCollecting jieba3k>=0.35.1\n",
            "\u001b[?25l  Downloading https://files.pythonhosted.org/packages/a9/cb/2c8332bcdc14d33b0bedd18ae0a4981a069c3513e445120da3c3f23a8aaa/jieba3k-0.35.1.zip (7.4MB)\n",
            "\u001b[K     |████████████████████████████████| 7.4MB 12.0MB/s \n",
            "\u001b[?25hRequirement already satisfied: requests>=2.10.0 in /usr/local/lib/python3.6/dist-packages (from newspaper3k) (2.23.0)\n",
            "Requirement already satisfied: python-dateutil>=2.5.3 in /usr/local/lib/python3.6/dist-packages (from newspaper3k) (2.8.1)\n",
            "Requirement already satisfied: PyYAML>=3.11 in /usr/local/lib/python3.6/dist-packages (from newspaper3k) (3.13)\n",
            "Requirement already satisfied: lxml>=3.6.0 in /usr/local/lib/python3.6/dist-packages (from newspaper3k) (4.2.6)\n",
            "Requirement already satisfied: nltk>=3.2.1 in /usr/local/lib/python3.6/dist-packages (from newspaper3k) (3.2.5)\n",
            "Collecting tinysegmenter==0.3\n",
            "  Downloading https://files.pythonhosted.org/packages/17/82/86982e4b6d16e4febc79c2a1d68ee3b707e8a020c5d2bc4af8052d0f136a/tinysegmenter-0.3.tar.gz\n",
            "Collecting tldextract>=2.0.1\n",
            "\u001b[?25l  Downloading https://files.pythonhosted.org/packages/fd/0e/9ab599d6e78f0340bb1d1e28ddeacb38c8bb7f91a1b0eae9a24e9603782f/tldextract-2.2.2-py2.py3-none-any.whl (48kB)\n",
            "\u001b[K     |████████████████████████████████| 51kB 4.7MB/s \n",
            "\u001b[?25hRequirement already satisfied: six in /usr/local/lib/python3.6/dist-packages (from feedfinder2>=0.0.4->newspaper3k) (1.12.0)\n",
            "Requirement already satisfied: certifi>=2017.4.17 in /usr/local/lib/python3.6/dist-packages (from requests>=2.10.0->newspaper3k) (2020.4.5.1)\n",
            "Requirement already satisfied: urllib3!=1.25.0,!=1.25.1,<1.26,>=1.21.1 in /usr/local/lib/python3.6/dist-packages (from requests>=2.10.0->newspaper3k) (1.24.3)\n",
            "Requirement already satisfied: idna<3,>=2.5 in /usr/local/lib/python3.6/dist-packages (from requests>=2.10.0->newspaper3k) (2.9)\n",
            "Requirement already satisfied: chardet<4,>=3.0.2 in /usr/local/lib/python3.6/dist-packages (from requests>=2.10.0->newspaper3k) (3.0.4)\n",
            "Requirement already satisfied: setuptools in /usr/local/lib/python3.6/dist-packages (from tldextract>=2.0.1->newspaper3k) (46.3.0)\n",
            "Collecting requests-file>=1.4\n",
            "  Downloading https://files.pythonhosted.org/packages/77/86/cdb5e8eaed90796aa83a6d9f75cfbd37af553c47a291cd47bc410ef9bdb2/requests_file-1.5.1-py2.py3-none-any.whl\n",
            "Building wheels for collected packages: feedfinder2, feedparser, jieba3k, tinysegmenter\n",
            "  Building wheel for feedfinder2 (setup.py) ... \u001b[?25l\u001b[?25hdone\n",
            "  Created wheel for feedfinder2: filename=feedfinder2-0.0.4-cp36-none-any.whl size=3357 sha256=a0cf420122b28dbd3c181119fff8454884238e0e63d7bda810fcb56eae2af190\n",
            "  Stored in directory: /root/.cache/pip/wheels/de/03/ca/778e3a7a627e3d98836cc890e7cb40c7575424cfd3340f40ed\n",
            "  Building wheel for feedparser (setup.py) ... \u001b[?25l\u001b[?25hdone\n",
            "  Created wheel for feedparser: filename=feedparser-5.2.1-cp36-none-any.whl size=44940 sha256=7ebccee433bfcec7e0708077cba51ab323c216d0f4983fc63c745c755d59bc94\n",
            "  Stored in directory: /root/.cache/pip/wheels/8c/69/b7/f52763c41c5471df57703a0ef718a32a5e81ee35dcf6d4f97f\n",
            "  Building wheel for jieba3k (setup.py) ... \u001b[?25l\u001b[?25hdone\n",
            "  Created wheel for jieba3k: filename=jieba3k-0.35.1-cp36-none-any.whl size=7398406 sha256=0f8b4bf20559aa21b030549606d04bb95762fa9684f8c016a4f8dc6dc0275b9f\n",
            "  Stored in directory: /root/.cache/pip/wheels/83/15/9c/a3f1f67e7f7181170ad37d32e503c35da20627c013f438ed34\n",
            "  Building wheel for tinysegmenter (setup.py) ... \u001b[?25l\u001b[?25hdone\n",
            "  Created wheel for tinysegmenter: filename=tinysegmenter-0.3-cp36-none-any.whl size=13539 sha256=cb55f2600db8f328b72b3b5a4cf62f262bc6dabdaf232d3f4b23ddc0b3c64349\n",
            "  Stored in directory: /root/.cache/pip/wheels/81/2b/43/a02ede72324dd40cdd7ca53aad718c7710628e91b8b0dc0f02\n",
            "Successfully built feedfinder2 feedparser jieba3k tinysegmenter\n",
            "Installing collected packages: cssselect, feedfinder2, feedparser, jieba3k, tinysegmenter, requests-file, tldextract, newspaper3k\n",
            "Successfully installed cssselect-1.1.0 feedfinder2-0.0.4 feedparser-5.2.1 jieba3k-0.35.1 newspaper3k-0.2.8 requests-file-1.5.1 tinysegmenter-0.3 tldextract-2.2.2\n"
          ],
          "name": "stdout"
        }
      ]
    },
    {
      "cell_type": "code",
      "metadata": {
        "id": "2L3n-qAfNPr1",
        "colab_type": "code",
        "colab": {
          "base_uri": "https://localhost:8080/",
          "height": 360
        },
        "outputId": "0b1a2fc8-4098-4289-cbf0-c39c098c909b"
      },
      "source": [
        "!pip install gTTS"
      ],
      "execution_count": 22,
      "outputs": [
        {
          "output_type": "stream",
          "text": [
            "Collecting gTTS\n",
            "  Downloading https://files.pythonhosted.org/packages/a1/0c/4ca77eca3b739a4a08360930643f58d714e302fee0d2f8c654e67d9af8e7/gTTS-2.1.1-py3-none-any.whl\n",
            "Requirement already satisfied: click in /usr/local/lib/python3.6/dist-packages (from gTTS) (7.1.2)\n",
            "Requirement already satisfied: beautifulsoup4 in /usr/local/lib/python3.6/dist-packages (from gTTS) (4.6.3)\n",
            "Collecting gtts-token>=1.1.3\n",
            "  Downloading https://files.pythonhosted.org/packages/e7/25/ca6e9cd3275bfc3097fe6b06cc31db6d3dfaf32e032e0f73fead9c9a03ce/gTTS-token-1.1.3.tar.gz\n",
            "Requirement already satisfied: six in /usr/local/lib/python3.6/dist-packages (from gTTS) (1.12.0)\n",
            "Requirement already satisfied: requests in /usr/local/lib/python3.6/dist-packages (from gTTS) (2.23.0)\n",
            "Requirement already satisfied: idna<3,>=2.5 in /usr/local/lib/python3.6/dist-packages (from requests->gTTS) (2.9)\n",
            "Requirement already satisfied: certifi>=2017.4.17 in /usr/local/lib/python3.6/dist-packages (from requests->gTTS) (2020.4.5.1)\n",
            "Requirement already satisfied: urllib3!=1.25.0,!=1.25.1,<1.26,>=1.21.1 in /usr/local/lib/python3.6/dist-packages (from requests->gTTS) (1.24.3)\n",
            "Requirement already satisfied: chardet<4,>=3.0.2 in /usr/local/lib/python3.6/dist-packages (from requests->gTTS) (3.0.4)\n",
            "Building wheels for collected packages: gtts-token\n",
            "  Building wheel for gtts-token (setup.py) ... \u001b[?25l\u001b[?25hdone\n",
            "  Created wheel for gtts-token: filename=gTTS_token-1.1.3-cp36-none-any.whl size=4097 sha256=97e19fa1a4e80a1519ba1c07f84296223c8fb26c8ebd2194c91f02f254ebb5c3\n",
            "  Stored in directory: /root/.cache/pip/wheels/dd/11/61/33f7e51bf545e910552b2255eead2a7cd8ef54064b46dceb34\n",
            "Successfully built gtts-token\n",
            "Installing collected packages: gtts-token, gTTS\n",
            "Successfully installed gTTS-2.1.1 gtts-token-1.1.3\n"
          ],
          "name": "stdout"
        }
      ]
    },
    {
      "cell_type": "code",
      "metadata": {
        "id": "02btb5zZE6le",
        "colab_type": "code",
        "colab": {
          "base_uri": "https://localhost:8080/",
          "height": 207
        },
        "outputId": "902d6e16-9498-446e-f3ea-ccb9f0a4feb5"
      },
      "source": [
        "!pip show tensorflow\n"
      ],
      "execution_count": 2,
      "outputs": [
        {
          "output_type": "stream",
          "text": [
            "Name: tensorflow\n",
            "Version: 2.2.0\n",
            "Summary: TensorFlow is an open source machine learning framework for everyone.\n",
            "Home-page: https://www.tensorflow.org/\n",
            "Author: Google Inc.\n",
            "Author-email: packages@tensorflow.org\n",
            "License: Apache 2.0\n",
            "Location: /usr/local/lib/python3.6/dist-packages\n",
            "Requires: astunparse, google-pasta, wheel, tensorflow-estimator, wrapt, protobuf, tensorboard, keras-preprocessing, h5py, opt-einsum, termcolor, six, absl-py, scipy, gast, numpy, grpcio\n",
            "Required-by: fancyimpute\n"
          ],
          "name": "stdout"
        }
      ]
    },
    {
      "cell_type": "code",
      "metadata": {
        "id": "mtKxy9UkE4XT",
        "colab_type": "code",
        "colab": {}
      },
      "source": [
        "import nltk\n",
        "from newspaper import Article"
      ],
      "execution_count": 0,
      "outputs": []
    },
    {
      "cell_type": "markdown",
      "metadata": {
        "id": "5WMeUbQVRin3",
        "colab_type": "text"
      },
      "source": [
        "The article is fetched from [washingtonpost](https://www.googleadservices.com/pagead/aclk?sa=L&ai=DChcSEwjHzcrryNbpAhUs1ZYKHavZA_MYABAAGgJ0bA&ohost=www.google.com&cid=CAESQOD2lRYMebWkFYY3smbDzBa5UwUQeBDGKlDBuCfZY6Aeq-_Gf_OCCNz_UixnBbwWsNgwKckKQsGWwDyodqnn1f0&sig=AOD64_1sbAOQAaa1a5gdWbgqYlpm_25gsw&q=&ved=2ahUKEwjqz8HryNbpAhUdzjgGHR0SBfQQ0Qx6BAgZEAE&adurl=)\n",
        "\n"
      ]
    },
    {
      "cell_type": "code",
      "metadata": {
        "id": "uGKt1LyyGhVk",
        "colab_type": "code",
        "colab": {}
      },
      "source": [
        "# article Link\n",
        "\n",
        "link=\"https://www.washingtonpost.com/opinions/2020/05/26/with-coronavirus-hurting-drug-business-theres-an-opportunity-corner-cartels/\"\n",
        "\n",
        "# passing it to 'Article' from newspaper library\n",
        "\n",
        "article=Article(link)"
      ],
      "execution_count": 0,
      "outputs": []
    },
    {
      "cell_type": "code",
      "metadata": {
        "id": "sJNs04t9IK_c",
        "colab_type": "code",
        "colab": {
          "base_uri": "https://localhost:8080/",
          "height": 51
        },
        "outputId": "b95c172f-26d0-4417-d90d-dc129b536b65"
      },
      "source": [
        "# parsing the article with nltk\n",
        "\n",
        "article.download()\n",
        "article.parse()\n",
        "nltk.download('punkt')\n",
        "article.nlp()"
      ],
      "execution_count": 42,
      "outputs": [
        {
          "output_type": "stream",
          "text": [
            "[nltk_data] Downloading package punkt to /root/nltk_data...\n",
            "[nltk_data]   Package punkt is already up-to-date!\n"
          ],
          "name": "stdout"
        }
      ]
    },
    {
      "cell_type": "code",
      "metadata": {
        "id": "YBjmuOylOLbz",
        "colab_type": "code",
        "outputId": "7b7ee396-c5ed-41d5-a004-21cf3822ca30",
        "colab": {
          "base_uri": "https://localhost:8080/",
          "height": 34
        }
      },
      "source": [
        "# get the name of the author\n",
        "article.authors"
      ],
      "execution_count": 43,
      "outputs": [
        {
          "output_type": "execute_result",
          "data": {
            "text/plain": [
              "['León Krauze', 'Global Opinions Contributing Columnist']"
            ]
          },
          "metadata": {
            "tags": []
          },
          "execution_count": 43
        }
      ]
    },
    {
      "cell_type": "code",
      "metadata": {
        "id": "8_B8YV_tKsE7",
        "colab_type": "code",
        "colab": {
          "base_uri": "https://localhost:8080/",
          "height": 530
        },
        "outputId": "290b5986-3e03-4be6-ca0b-81d8e384351f"
      },
      "source": [
        "print(article.text)"
      ],
      "execution_count": 44,
      "outputs": [
        {
          "output_type": "stream",
          "text": [
            "Although cross-border tunnels have long been a source for concern, they’re not a “very big problem.” In fact, most drugs are smuggled into the United States above ground, through legal ports of entry. Deadly synthetic opioids such as fentanyl, which is fatal even in small amounts, have even flowed into the country through the U.S. Postal Service.\n",
            "\n",
            "Trump should know that drug cartels are not getting more savvy, innovating with tunnels; in fact, the criminal organizations are facing an unprecedented crisis.\n",
            "\n",
            "AD\n",
            "\n",
            "AD\n",
            "\n",
            "The coronavirus pandemic has complicated drug production and smuggling operations in Mexico and beyond. Both licit and illicit trade with China has ground to a halt, and Mexican cartels appear to be struggling to deal with a severe shortage of chemical precursors that are needed to produce fentanyl and methamphetamines. The Chinese city of Wuhan, the epicenter of the pandemic, was also a hub for these precursors and costs have now surged. “We haven’t stopped producing, but the price of meth is getting pushed up because of the scarcity of chemicals from China . . . transporting them this far is also getting much more expensive,” a Sinaloa cartel operative told Vice last month.\n",
            "\n",
            "Drug production is only the beginning of the cartels’ recent troubles. Distribution has also become a major challenge. Like all major transnational operations, drug smuggling depends on borders being open. They also count on security being relatively lax. With the United States’ southern border more closely watched than ever in recent memory, cartels are struggling to push their merchandise north. “We’re seeing disruptions of nearly all illicit drugs both on the wholesale and retail level,” Uttam Dhillon, acting administrator of the Drug Enforcement Administration, recently said during an interview. According to Dhillon, the result has been clear: less supply of and higher prices for methamphetamine and other drugs that, pre-pandemic, were cheaper and widely available in many U.S. cities.\n",
            "\n",
            "Lastly, widespread quarantine has imperiled the third crucial leg of the drug business: sales. “Even when drugs do reach consumer markets, traditional distribution channels such as bars and clubs are shut,” writes Mexican security analyst Alejandro Hope. Curfews and stay-at-home measures even complicate other illicit businesses criminal organizations turn to when drug smuggling falters. “Who can gangs shake down when most businesses are closed?” asks Hope.\n",
            "\n",
            "AD\n",
            "\n",
            "AD\n",
            "\n",
            "The current crisis could present a unique opportunity to disrupt drug cartel activities and force criminal organizations into a corner. “Conditions make this the perfect moment for security forces to try to take out regional drug trafficking networks,” Hope argues. Sadly, it might take different leadership, both in Mexico and the United States. Mexican President Andrés Manuel López Obrador has been strangely reluctant to face the cartels head-on. In October, he made the controversial decision to free drug lord Ovidio Guzmán, son of jailed kingpin Joaquín “El Chapo” Guzmán, after mayhem exploded in Culiacán once news spread of the younger Guzman’s arrest. Six months later, at the onset of the pandemic no less, the Mexican president met with El Chapo’s mother. López Obrador has often said that his strategy toward the cartels will be “hugs, not bullets.”\n",
            "\n",
            "The Trump administration appears to have other priorities for the bilateral agenda. Over the last two years, Secretary of State Mike Pompeo has been in frequent contact with Mexico’s foreign minister, Marcelo Ebrard. They have mostly discussed immigration enforcement and deterrence, to which Mexico has readily acquiesced. Under pressure from the White House, Mexico has militarized its southern border and has given in to the full implementation of the Trump administration’s controversial “Remain in Mexico” policy, fundamentally changing the country’s northern border. Partnership on other matters hasn’t seemed as urgent.\n",
            "\n",
            "If both governments cooperated on taking down real transnational criminal organizations as enthusiastically as they have worked in suppressing migrant caravans made up of thousands of impoverished and terrified potential refugees, cartels would be in real trouble.\n",
            "\n",
            "AD\n",
            "\n",
            "AD\n",
            "\n",
            "Read more:\n"
          ],
          "name": "stdout"
        }
      ]
    },
    {
      "cell_type": "markdown",
      "metadata": {
        "id": "VXQjuRoZSWyt",
        "colab_type": "text"
      },
      "source": [
        "## Summary of Article"
      ]
    },
    {
      "cell_type": "code",
      "metadata": {
        "id": "IFwmlKMTK75V",
        "colab_type": "code",
        "colab": {
          "base_uri": "https://localhost:8080/",
          "height": 122
        },
        "outputId": "da8a999e-660f-46f5-fa4b-98c735351cd6"
      },
      "source": [
        "print(article.summary)"
      ],
      "execution_count": 45,
      "outputs": [
        {
          "output_type": "stream",
          "text": [
            "Trump should know that drug cartels are not getting more savvy, innovating with tunnels; in fact, the criminal organizations are facing an unprecedented crisis.\n",
            "Like all major transnational operations, drug smuggling depends on borders being open.\n",
            "With the United States’ southern border more closely watched than ever in recent memory, cartels are struggling to push their merchandise north.\n",
            "Curfews and stay-at-home measures even complicate other illicit businesses criminal organizations turn to when drug smuggling falters.\n",
            "ADADThe current crisis could present a unique opportunity to disrupt drug cartel activities and force criminal organizations into a corner.\n"
          ],
          "name": "stdout"
        }
      ]
    },
    {
      "cell_type": "markdown",
      "metadata": {
        "id": "XzngHlntQEOy",
        "colab_type": "text"
      },
      "source": [
        "## Listen the Summary\n",
        "\n",
        "Summary of article is converted to speech with the help of google text to speech,      **gTTs**\n",
        "\n",
        "Saved as summary.mp3"
      ]
    },
    {
      "cell_type": "code",
      "metadata": {
        "id": "U_iXFrV8Nekp",
        "colab_type": "code",
        "colab": {}
      },
      "source": [
        "from gtts import gTTS \n",
        "language ='en'\n",
        "sumary=\"The summary of the Article is               \"+article.summary\n",
        "speech = gTTS(text=sumary, lang=language, slow=False)\n",
        "speech.save(\"summary.mp3\")"
      ],
      "execution_count": 0,
      "outputs": []
    },
    {
      "cell_type": "code",
      "metadata": {
        "id": "dRpcvvuXMlEy",
        "colab_type": "code",
        "colab": {
          "base_uri": "https://localhost:8080/",
          "height": 34
        },
        "outputId": "2fd023b2-4a69-461c-cf08-8ea58e5691d1"
      },
      "source": [
        "print(article.tags)"
      ],
      "execution_count": 39,
      "outputs": [
        {
          "output_type": "stream",
          "text": [
            "set()\n"
          ],
          "name": "stdout"
        }
      ]
    }
  ]
}